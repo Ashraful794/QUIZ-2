{
 "cells": [
  {
   "cell_type": "code",
   "execution_count": 2,
   "id": "color-korean",
   "metadata": {},
   "outputs": [],
   "source": [
    "import numpy as np\n",
    "import matplotlib.pyplot as plt\n",
    "import os\n",
    "import cv2\n",
    "import random                   ##import all the libary \n",
    "import math\n",
    "from tqdm import tqdm\n",
    "import csv\n",
    "import pandas as pd"
   ]
  },
  {
   "cell_type": "code",
   "execution_count": 3,
   "id": "african-macintosh",
   "metadata": {},
   "outputs": [],
   "source": [
    "_DATA_SET=\"D:/Dataset/Cifar10\"                   #add the path of the folder\n",
    "path=os.path.join(_DATA_SET,\"train\")"
   ]
  },
  {
   "cell_type": "code",
   "execution_count": 4,
   "id": "pursuant-stable",
   "metadata": {},
   "outputs": [
    {
     "name": "stderr",
     "output_type": "stream",
     "text": [
      "100%|███████████████████████████████████████████████████████████████████████████| 50000/50000 [06:39<00:00, 125.31it/s]\n"
     ]
    }
   ],
   "source": [
    "data=[]\n",
    "catagories = ['airplane', 'automobile', 'bird', 'cat', 'deer', 'dog', 'frog', 'horse', 'ship', 'truck']   \n",
    "csv_file=os.path.join(_DATA_SET,\"trainLabels.csv\")   \n",
    "df=pd.read_csv(csv_file)    ###read the csv file\n",
    "\n",
    "for img in tqdm(os.listdir(path)): \n",
    "    img_split=img.split('.')   #split the imgage\n",
    "    img_label=img_split[0]     #take the number of the image\n",
    "    img_label_index=int(img_label)-1   #make it a integer value \n",
    "    img_arr=cv2.imread(os.path.join(path,img))  ##read the images \n",
    "    class_name=catagories.index(df['label'][img_label_index]) ##take the label from csv file\n",
    "    data.append([img_arr,class_name])   ## store image with the label "
   ]
  },
  {
   "cell_type": "code",
   "execution_count": 6,
   "id": "whole-football",
   "metadata": {},
   "outputs": [],
   "source": [
    "temp=data[:]\n",
    "random.shuffle(temp)    ##shuffle it"
   ]
  },
  {
   "cell_type": "code",
   "execution_count": 7,
   "id": "presidential-prior",
   "metadata": {},
   "outputs": [],
   "source": [
    "f1=[]\n",
    "f2=[]\n",
    "f3=[]\n",
    "f4=[]\n",
    "f5=[]\n",
    "f1 = temp[0:10000]                     \n",
    "f2 = temp[10000:20000]\n",
    "f3 = temp[20000:30000]            ## make 5 folder and store the data \n",
    "f4 = temp[30000:40000]\n",
    "f5 = temp[40000:50000]"
   ]
  },
  {
   "cell_type": "code",
   "execution_count": 8,
   "id": "relative-natural",
   "metadata": {},
   "outputs": [],
   "source": [
    "test1=f1+f2+f3+f4\n",
    "valid1=f5\n",
    "test2=f1+f2+f3+f5             \n",
    "valid2=f4\n",
    "test3=f1+f2+f4+f5\n",
    "valid3=f3\n",
    "test4=f1+f3+f4+f5                      ##add 4 folder together and 1 valid folder different\n",
    "valid4=f2\n",
    "test5=f2+f3+f4+f5\n",
    "valid5 =f1"
   ]
  },
  {
   "cell_type": "code",
   "execution_count": 9,
   "id": "protective-spider",
   "metadata": {},
   "outputs": [],
   "source": [
    "training_set_list= [test1,test2,test3,test4,test5]                    \n",
    "validation_set_list= [valid1,valid2,valid3,valid4,valid5]"
   ]
  },
  {
   "cell_type": "code",
   "execution_count": 10,
   "id": "handed-diana",
   "metadata": {},
   "outputs": [],
   "source": [
    "data_length=len(f1)           ##take the length of a folder\n",
    "dts=[]\n",
    "for i in range(5):\n",
    "    correct=[0]*20    \n",
    "    for  valid_data in validation_set_list[i]:                \n",
    "        sortitem=[]\n",
    "        for  train_data in training_set_list[i]:\n",
    "            distance= np.abs(valid_data[0]-train_data[0])   ##distance of a validate image and train image\n",
    "            distance_summation=np.sum(distance)    ##sum the distance\n",
    "            category_sum=[train_data[1],distance_summation]   ##store the category lavel and distance\n",
    "            sortitem.append(category_sum)      \n",
    "        sortitem.sort(key = lambda x: x[1])    ##sort the distances of the images\n",
    "        ctgr=[0]*10\n",
    "        for k in range(20):\n",
    "            ctgr[sortitem[k][0]]+=1              ##take first 20 distance and store the lavel of the distance\n",
    "            maximum=max(ctgr)                ##take the maximum lavel \n",
    "            b=ctgr.index(maximum)       ##take the index number of that lavel\n",
    "            for w in range(10):\n",
    "                if(valid_data[1]==b):    ##check the valid data lavel and the maximum lavel match or not \n",
    "                    correct[k]+=1\n",
    "                    break\n",
    "    accurecy=[]\n",
    "    for j in range(20):\n",
    "        accurecy.append(correct[j]/data_length)         ##measure the accuracy\n",
    "    dts.append(accurecy)    "
   ]
  },
  {
   "cell_type": "code",
   "execution_count": 15,
   "id": "cognitive-diploma",
   "metadata": {},
   "outputs": [
    {
     "name": "stderr",
     "output_type": "stream",
     "text": [
      "<ipython-input-15-1a30ce5e32b4>:11: MatplotlibDeprecationWarning: Adding an axes using the same arguments as a previous axes currently reuses the earlier instance.  In a future version, a new instance will always be created and returned.  Meanwhile, this warning can be suppressed, and the future behavior ensured, by passing a unique label to each axes instance.\n",
      "  ax=plt.axes()\n"
     ]
    },
    {
     "data": {
      "image/png": "[encoded data removed]",
      "text/plain": [
       "<Figure size 432x288 with 1 Axes>"
      ]
     },
     "metadata": {
      "needs_background": "light"
     },
     "output_type": "display_data"
    }
   ],
   "source": [
    "x=[0]*20\n",
    "\n",
    "for i in range(5):\n",
    "    for j in range(20):  \n",
    "        x[j]=x[j]+dts[i][j]/5              ##find the mid point\n",
    "        plt.plot(j,dts[i][j],'.')\n",
    "for i in range(0,20):\n",
    "    plt.plot(i,x[i],'*')\n",
    "\n",
    "t=[ k for k in range(0,20)]\n",
    "ax=plt.axes()\n",
    "ax.plot(t,(x))\n",
    "    \n",
    "plt.grid()\n",
    "plt.xlabel('Value of K')\n",
    "plt.ylabel('Value of accurecy')\n",
    "plt.title('K fold validation')\n",
    "  \n",
    "plt.show()\n",
    "    \n"
   ]
  },
  {
   "cell_type": "code",
   "execution_count": null,
   "id": "floral-embassy",
   "metadata": {},
   "outputs": [],
   "source": []
  }
 ],
 "metadata": {
  "kernelspec": {
   "display_name": "Python 3",
   "language": "python",
   "name": "python3"
  },
  "language_info": {
   "codemirror_mode": {
    "name": "ipython",
    "version": 3
   },
   "file_extension": ".py",
   "mimetype": "text/x-python",
   "name": "python",
   "nbconvert_exporter": "python",
   "pygments_lexer": "ipython3",
   "version": "3.9.2"
  }
 },
 "nbformat": 4,
 "nbformat_minor": 5
}
